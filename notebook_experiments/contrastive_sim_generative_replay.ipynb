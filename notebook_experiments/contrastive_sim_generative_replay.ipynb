{
 "cells": [
  {
   "cell_type": "code",
   "execution_count": 47,
   "id": "e1834d28-f8bd-4fbd-a533-da6723de274c",
   "metadata": {},
   "outputs": [],
   "source": [
    "import torch\n",
    "import torch.nn as nn\n",
    "import torch.nn.functional as F\n",
    "from torch.utils.data import Dataset, DataLoader\n",
    "import numpy as np\n",
    "from kdg.utils import plot_2dsim, gaussian_sparse_parity, generate_gaussian_parity\n",
    "from tqdm import tqdm\n",
    "from sklearn.neighbors import KernelDensity as kde\n",
    "import matplotlib.pyplot as plt"
   ]
  },
  {
   "cell_type": "code",
   "execution_count": 48,
   "id": "c9079828-bb16-48f4-aa32-fc7f5892886f",
   "metadata": {},
   "outputs": [],
   "source": [
    "def generate_task_data(sample_size, angle, latent_dim, noise_dim):\n",
    "    X, y = generate_gaussian_parity(sample_size, angle_params=angle)\n",
    "    X_noise = np.random.uniform(\n",
    "                low=-1, high=1, size=(sample_size, noise_dim)\n",
    "            )\n",
    "    X = np.concatenate((X, X_noise), axis=1)\n",
    "        \n",
    "    \n",
    "    X , y = torch.from_numpy(X.astype('float32')), torch.from_numpy(y.astype('float32'))\n",
    "\n",
    "    return X, y"
   ]
  },
  {
   "cell_type": "code",
   "execution_count": 49,
   "id": "1f1d9982-e763-45a1-97df-b7ea4b0f7f3a",
   "metadata": {},
   "outputs": [],
   "source": [
    "class TaskDataset(Dataset):\n",
    "    def __init__(self, X, y):\n",
    "        self.X = X.clone()\n",
    "        self.y = y.clone()\n",
    "\n",
    "    def __getitem__(self, index):\n",
    "        return self.X[index], self.y[index]\n",
    "\n",
    "    def __len__(self):\n",
    "        return self.X.shape[0]"
   ]
  },
  {
   "cell_type": "code",
   "execution_count": 50,
   "id": "5be7e9b8-68bc-48dc-a345-8c3836b360d5",
   "metadata": {},
   "outputs": [],
   "source": [
    "class DecoderDataset(Dataset):\n",
    "    def __init__(self, X):\n",
    "        self.X = X.clone()\n",
    "\n",
    "    def __getitem__(self, index):\n",
    "        return self.X[index]\n",
    "\n",
    "    def __len__(self):\n",
    "        return self.X.shape[0]"
   ]
  },
  {
   "cell_type": "code",
   "execution_count": 51,
   "id": "86ed55d2-de85-463a-8efe-a75259cb8dbe",
   "metadata": {},
   "outputs": [],
   "source": [
    "class Encoder(nn.Module):\n",
    "    def __init__(self, input_size, latent_dim, nodes=1000):\n",
    "        super(Encoder, self).__init__()\n",
    "        self.layer1 = nn.Linear(input_size, nodes)\n",
    "        self.bn1 = nn.BatchNorm1d(nodes)\n",
    "        self.layer2 = nn.Linear(nodes, nodes)\n",
    "        self.bn2 = nn.BatchNorm1d(nodes)\n",
    "        self.layer3 = nn.Linear(nodes, nodes)\n",
    "        self.bn3 = nn.BatchNorm1d(nodes)\n",
    "        self.layer4 = nn.Linear(nodes, nodes)\n",
    "        self.bn4 = nn.BatchNorm1d(nodes)\n",
    "        self.output = nn.Linear(nodes, latent_dim)\n",
    "\n",
    "    def forward(self, x):\n",
    "        x = self.layer1(x)\n",
    "        x = F.relu(self.bn1(x))\n",
    "        x = self.layer2(x)\n",
    "        x = F.relu(self.bn2(x))\n",
    "        x = self.layer3(x)\n",
    "        x = F.relu(self.bn3(x))\n",
    "        x = self.layer4(x)\n",
    "        x = F.relu(self.bn4(x))\n",
    "        x = self.output(x)\n",
    "\n",
    "        return x\n",
    "        "
   ]
  },
  {
   "cell_type": "code",
   "execution_count": 52,
   "id": "dd22507b-4814-4fff-aad8-4e786f141557",
   "metadata": {},
   "outputs": [],
   "source": [
    "class Decoder(nn.Module):\n",
    "    def __init__(self, input_size, latent_dim, nodes=1000):\n",
    "        super(Decoder, self).__init__()\n",
    "        self.layer1 = nn.Linear(latent_dim, nodes)\n",
    "        self.bn1 = nn.BatchNorm1d(nodes)\n",
    "        self.layer2 = nn.Linear(nodes, nodes)\n",
    "        self.bn2 = nn.BatchNorm1d(nodes)\n",
    "        self.layer3 = nn.Linear(nodes, nodes)\n",
    "        self.bn3 = nn.BatchNorm1d(nodes)\n",
    "        self.layer4 = nn.Linear(nodes, nodes)\n",
    "        self.bn4 = nn.BatchNorm1d(nodes)\n",
    "        self.output = nn.Linear(nodes, input_size)\n",
    "\n",
    "    def forward(self, x):\n",
    "        x = self.layer1(x)\n",
    "        x = F.relu(self.bn1(x))\n",
    "        x = self.layer2(x)\n",
    "        x = F.relu(self.bn2(x))\n",
    "        x = self.layer3(x)\n",
    "        x = F.relu(self.bn3(x))\n",
    "        x = self.layer4(x)\n",
    "        x = F.relu(self.bn4(x))\n",
    "        x = self.output(x)\n",
    "\n",
    "        return x"
   ]
  },
  {
   "cell_type": "code",
   "execution_count": 53,
   "id": "27037b9d-b7e4-40e5-9ca5-c62ac9f334ed",
   "metadata": {},
   "outputs": [],
   "source": [
    "class Head(nn.Module):\n",
    "    def __init__(self, latent_dim, output):\n",
    "        super(Head, self).__init__()\n",
    "        self.layer1 = nn.Linear(latent_dim, 100)\n",
    "        self.layer2 = nn.Linear(100, 100)\n",
    "        self.output = nn.Linear(100, output)\n",
    "        \n",
    "\n",
    "    def forward(self, x):\n",
    "        x = F.relu(self.layer1(x))\n",
    "        x = F.relu(self.layer2(x))\n",
    "        x = self.output(x)\n",
    "\n",
    "        return x"
   ]
  },
  {
   "cell_type": "code",
   "execution_count": 54,
   "id": "90212194-ebfa-46d3-838b-873bf05d4d64",
   "metadata": {},
   "outputs": [],
   "source": [
    "class ContrastLoss(nn.Module):\n",
    "    def __init__(self, latent_dim, margin=0.3, replay_const=1e-1):\n",
    "        super(ContrastLoss, self).__init__()\n",
    "        self.margin = margin\n",
    "        self.replay_const = replay_const\n",
    "\n",
    "    def forward(self, inputs, targets, inputs_replay, targets_replay):\n",
    "        dis_embedding = torch.cdist(\n",
    "                            inputs,\n",
    "                            inputs,\n",
    "                            p=2.0\n",
    "                        )\n",
    "\n",
    "\n",
    "        number_of_heads = targets.shape[1]\n",
    "        kernel_partition = torch.sum(\n",
    "                            targets.view(1,-1,number_of_heads)==targets.view(-1,1,number_of_heads),\n",
    "                            dim=2)/number_of_heads\n",
    "        \n",
    "        dis_partition = (1-kernel_partition)>1e-12\n",
    "\n",
    "        ############################################################\n",
    "        dis_embedding_replay = torch.cdist(\n",
    "                            inputs_replay,\n",
    "                            inputs_replay,\n",
    "                            p=2.0\n",
    "                        )\n",
    "        number_of_heads_replay = targets_replay.shape[1]\n",
    "        kernel_partition_replay = torch.sum(\n",
    "                            targets_replay.view(1,-1,number_of_heads_replay)==targets_replay.view(-1,1,number_of_heads_replay),\n",
    "                            dim=2)/number_of_heads_replay\n",
    "        \n",
    "        dis_partition_replay = (1-kernel_partition_replay)>1e-12\n",
    "        loss = torch.mul(\n",
    "                        kernel_partition,\n",
    "                        dis_embedding\n",
    "                    ) + torch.clamp(torch.mul(\n",
    "                        dis_partition,\n",
    "                        self.margin-dis_embedding\n",
    "                        ), 0.0)\n",
    "        \n",
    "        loss_replay = torch.mul(\n",
    "                        kernel_partition_replay,\n",
    "                        dis_embedding_replay\n",
    "                    ) + torch.clamp(torch.mul(\n",
    "                        dis_partition_replay,\n",
    "                        self.margin-dis_embedding_replay\n",
    "                        ), 0.0)\n",
    "                \n",
    "        return loss.mean() + self.replay_const*loss_replay.mean()"
   ]
  },
  {
   "cell_type": "code",
   "execution_count": 55,
   "id": "0462f931-eb68-4132-ab02-2020a5b10a1b",
   "metadata": {},
   "outputs": [],
   "source": [
    "class ClassificationLoss(nn.Module):\n",
    "    def __init__(self):\n",
    "        super(ClassificationLoss, self).__init__()\n",
    "\n",
    "    def forward(self, inputs, targets):\n",
    "        print(inputs.size(), targets.size())\n",
    "        loss = -1 * (targets * torch.log(inputs) + (1 - targets) * torch.log(1 - inputs))\n",
    "        return loss.mean()"
   ]
  },
  {
   "cell_type": "code",
   "execution_count": 116,
   "id": "95d3d785-00fe-40b3-8a48-2bd4b315fd57",
   "metadata": {},
   "outputs": [
    {
     "name": "stdout",
     "output_type": "stream",
     "text": [
      "Doing Task  1\n",
      "Epoch : 100 loss : 0.07857596625884374\n",
      "head 1 Epoch : 50, loss: 0.0173\n",
      "Epoch : 100 decoder loss : 0.21006479859352112\n",
      "Doing Task  2\n"
     ]
    }
   ],
   "source": [
    "total_task = 20\n",
    "task_data = {}\n",
    "heads = {}\n",
    "classes_per_task = 2\n",
    "sample_per_task = 100\n",
    "noise_dim = 8\n",
    "latent_dim = 2\n",
    "nodes_at_each_layer = 3000\n",
    "epoch_per_task_encoder = 100\n",
    "epoch_per_task_decoder = 100\n",
    "epoch_per_task_head = 50\n",
    "total_task_seen = 0\n",
    "learning_rate_encoder = 3e-3\n",
    "learning_rate_decoder = 1e-1\n",
    "learning_rate_head = 3e-3\n",
    "batch_size = 64\n",
    "margin = 5.2\n",
    "replay_const = 5e-1\n",
    "X_replay = []\n",
    "y_replay = []\n",
    "###########################\n",
    "task_angles = np.linspace(0,np.pi/4, total_task)\n",
    "#np.random.shuffle(task_angles)\n",
    "\n",
    "###########################\n",
    "encoder = Encoder(input_size=noise_dim+latent_dim, latent_dim=latent_dim, nodes=nodes_at_each_layer)\n",
    "decoder = Decoder(input_size=noise_dim+latent_dim, latent_dim=latent_dim, nodes=nodes_at_each_layer)\n",
    "encoder_optimizer = torch.optim.Adam(encoder.parameters(), lr = learning_rate_encoder, weight_decay = 1e-8)\n",
    "decoder_optimizer = torch.optim.Adam(decoder.parameters(), lr = learning_rate_decoder, weight_decay = 1e-8)\n",
    "criterion_encoder = ContrastLoss(latent_dim, margin=margin, replay_const=replay_const)\n",
    "criterion_decoder = nn.MSELoss()\n",
    "\n",
    "for ii, angle in enumerate(task_angles):\n",
    "    print('Doing Task ', ii+1)\n",
    "    \n",
    "    X, y = generate_task_data(sample_per_task, angle, latent_dim, noise_dim)\n",
    "    y = y.view(-1,1)\n",
    "\n",
    "    if ii == 0:\n",
    "        X_replay = X\n",
    "    else:\n",
    "        with torch.no_grad():\n",
    "            X_replay = decoder(X_latent)\n",
    "            \n",
    "    \n",
    "    #######################\n",
    "    with torch.no_grad():\n",
    "        embedding = encoder(X)\n",
    "        \n",
    "        for jj in range(total_task_seen):\n",
    "            head_predicted_label = heads[jj](embedding).argmax(1).view(-1,1)\n",
    "            y = torch.cat((y, head_predicted_label),\n",
    "                        dim=1)\n",
    "\n",
    "    \n",
    "    #######################\n",
    "    if ii == 0:\n",
    "        y_replay = y\n",
    "    else:\n",
    "        with torch.no_grad():\n",
    "            embedding = encoder(X_replay)\n",
    "            \n",
    "            for jj in range(total_task_seen):\n",
    "                head_predicted_label = heads[jj](embedding).argmax(1).view(-1,1)\n",
    "    \n",
    "                if jj == 0:\n",
    "                    y_replay = head_predicted_label\n",
    "                else:\n",
    "                    y_replay = torch.cat((y_replay, head_predicted_label),\n",
    "                                dim=1)\n",
    "\n",
    " \n",
    "    \n",
    "    train_loader = DataLoader(TaskDataset(X, y), batch_size=batch_size,\n",
    "                                          shuffle=True)   \n",
    "    replay_loader = DataLoader(TaskDataset(X_replay, y_replay), batch_size=batch_size,\n",
    "                                          shuffle=True) \n",
    "    \n",
    "    #task_data[ii] = train_loader\n",
    "    ## train encoder ##\n",
    "    for epoch in range(epoch_per_task_encoder):\n",
    "        running_loss = 0.0\n",
    "\n",
    "        count = 0\n",
    "        for (X_, y_), (X_r, y_r) in zip(train_loader, replay_loader):\n",
    "            encoder_optimizer.zero_grad()\n",
    "            embedding = encoder(X_)\n",
    "            embedding_replay = encoder(X_r)\n",
    "            \n",
    "            loss = criterion_encoder(embedding, y_, embedding_replay, y_r)\n",
    "            #print(X_r.shape)\n",
    "            loss.backward()\n",
    "            encoder_optimizer.step()\n",
    "\n",
    "            running_loss += loss.item()\n",
    "            count += 1\n",
    "\n",
    "    print(\"Epoch :\", epoch+1, \"loss :\", running_loss/(count+1))\n",
    "    \n",
    "    ## train head ##\n",
    "    heads[ii] = Head(latent_dim=latent_dim, output=classes_per_task)\n",
    "    head_optimizer = torch.optim.SGD(heads[ii].parameters(), lr=learning_rate_head, momentum=0.9)\n",
    "    criterion_head = nn.CrossEntropyLoss()\n",
    "        \n",
    "    for epoch in range(epoch_per_task_head):\n",
    "        for X_, y_ in train_loader:\n",
    "            head_optimizer.zero_grad()\n",
    "            \n",
    "            with torch.no_grad():\n",
    "                embedding = encoder(X_)\n",
    "\n",
    "            predicted_y = heads[ii](embedding)\n",
    "            loss_head = criterion_head(predicted_y, y_[:,0].long())\n",
    "            loss_head.backward()\n",
    "            head_optimizer.step()\n",
    "            \n",
    "    print(f'head {ii+1} Epoch : {epoch+1}, loss: {loss_head:.4f}')\n",
    "\n",
    "\n",
    "    # ## train kde ##\n",
    "    # if ii != 0:\n",
    "    #     X_latent = model_kde.sample(n_samples=(ii+1)*sample_per_task)\n",
    "    #     X_latent = torch.from_numpy(X_latent.astype('float32'))\n",
    "\n",
    "    #     with torch.no_grad():\n",
    "    #         X_replay = decoder(X_latent)\n",
    "            \n",
    "    #     X = torch.cat((X, X_replay))\n",
    "\n",
    "    # with torch.no_grad():\n",
    "    #     embedding = encoder(X)\n",
    "\n",
    "    # model_kde = kde(kernel='tophat', bandwidth=1e-14)\n",
    "    # model_kde.fit(embedding.detach().numpy())\n",
    "\n",
    "    \n",
    "    ## train decoder ##\n",
    "    X = torch.cat((X, X_replay))\n",
    "    with torch.no_grad():\n",
    "        X_latent = encoder(X)\n",
    "        \n",
    "    decoder_loader = DataLoader(DecoderDataset(X), batch_size=2*batch_size,\n",
    "                                          shuffle=True)\n",
    "    \n",
    "    for epoch in range(epoch_per_task_decoder):\n",
    "        running_loss = 0.0\n",
    "\n",
    "        count = 0\n",
    "        for X_ in decoder_loader:\n",
    "            decoder_optimizer.zero_grad()\n",
    "\n",
    "            with torch.no_grad():\n",
    "                embedding = encoder(X_)\n",
    "\n",
    "            X_recon = decoder(embedding)\n",
    "            loss_decoder = criterion_decoder(X_recon, X_)\n",
    "            loss_decoder.backward()\n",
    "            decoder_optimizer.step()\n",
    "\n",
    "            running_loss += loss_decoder.item()\n",
    "            count += 1\n",
    "\n",
    "    print(\"Epoch :\", epoch+1, \"decoder loss :\", running_loss/(count+1))\n",
    "\n",
    "    \n",
    "    total_task_seen += 1"
   ]
  },
  {
   "cell_type": "code",
   "execution_count": 112,
   "id": "d26f9504-e245-424d-b820-744c8682f390",
   "metadata": {},
   "outputs": [
    {
     "name": "stdout",
     "output_type": "stream",
     "text": [
      "Task 1 accuracy:  tensor(0.8511)\n",
      "Task 2 accuracy:  tensor(0.7888)\n",
      "Task 3 accuracy:  tensor(0.8045)\n",
      "Task 4 accuracy:  tensor(0.8762)\n",
      "Task 5 accuracy:  tensor(0.8538)\n",
      "Task 6 accuracy:  tensor(0.8474)\n",
      "Task 7 accuracy:  tensor(0.8651)\n"
     ]
    },
    {
     "ename": "KeyError",
     "evalue": "7",
     "output_type": "error",
     "traceback": [
      "\u001b[0;31m---------------------------------------------------------------------------\u001b[0m",
      "\u001b[0;31mKeyError\u001b[0m                                  Traceback (most recent call last)",
      "Cell \u001b[0;32mIn[112], line 4\u001b[0m\n\u001b[1;32m      2\u001b[0m X , y \u001b[38;5;241m=\u001b[39m generate_task_data(\u001b[38;5;241m10000\u001b[39m, task_angles[ii], latent_dim, noise_dim)\n\u001b[1;32m      3\u001b[0m embedding \u001b[38;5;241m=\u001b[39m encoder(X)\n\u001b[0;32m----> 4\u001b[0m head_predicted_label \u001b[38;5;241m=\u001b[39m \u001b[43mheads\u001b[49m\u001b[43m[\u001b[49m\u001b[43mii\u001b[49m\u001b[43m]\u001b[49m(embedding)\u001b[38;5;241m.\u001b[39margmax(\u001b[38;5;241m1\u001b[39m)\u001b[38;5;241m.\u001b[39mview(\u001b[38;5;241m-\u001b[39m\u001b[38;5;241m1\u001b[39m,\u001b[38;5;241m1\u001b[39m)\n\u001b[1;32m      6\u001b[0m \u001b[38;5;28mprint\u001b[39m(\u001b[38;5;124mf\u001b[39m\u001b[38;5;124m'\u001b[39m\u001b[38;5;124mTask \u001b[39m\u001b[38;5;132;01m{\u001b[39;00mii\u001b[38;5;241m+\u001b[39m\u001b[38;5;241m1\u001b[39m\u001b[38;5;132;01m}\u001b[39;00m\u001b[38;5;124m accuracy: \u001b[39m\u001b[38;5;124m'\u001b[39m, torch\u001b[38;5;241m.\u001b[39msum(y\u001b[38;5;241m.\u001b[39mview(\u001b[38;5;241m-\u001b[39m\u001b[38;5;241m1\u001b[39m,\u001b[38;5;241m1\u001b[39m)\u001b[38;5;241m==\u001b[39mhead_predicted_label)\u001b[38;5;241m/\u001b[39m\u001b[38;5;241m10000\u001b[39m)    \n",
      "\u001b[0;31mKeyError\u001b[0m: 7"
     ]
    }
   ],
   "source": [
    "for ii in range(total_task):\n",
    "    X , y = generate_task_data(10000, task_angles[ii], latent_dim, noise_dim)\n",
    "    embedding = encoder(X)\n",
    "    head_predicted_label = heads[ii](embedding).argmax(1).view(-1,1)\n",
    "\n",
    "    print(f'Task {ii+1} accuracy: ', torch.sum(y.view(-1,1)==head_predicted_label)/10000)    "
   ]
  },
  {
   "cell_type": "code",
   "execution_count": 106,
   "id": "ae7c8c79-f98a-4c87-a5c2-132b43aed6b4",
   "metadata": {},
   "outputs": [],
   "source": [
    "task = 3\n",
    "X , y = generate_task_data(1000, task_angles[task], latent_dim, noise_dim)"
   ]
  },
  {
   "cell_type": "code",
   "execution_count": 107,
   "id": "4a2ce3f4-994a-426c-a07d-be3b71a71363",
   "metadata": {},
   "outputs": [],
   "source": [
    "embedding = encoder(X)\n",
    "head_predicted_label = heads[task](embedding).argmax(1).view(-1,1)"
   ]
  },
  {
   "cell_type": "code",
   "execution_count": 108,
   "id": "c51a2eba-981b-46c4-aa97-30e699938d66",
   "metadata": {},
   "outputs": [],
   "source": [
    "criterion_encoder = ContrastLoss(latent_dim)\n",
    "#criterion_encoder(embedding, y, 3)"
   ]
  },
  {
   "cell_type": "code",
   "execution_count": 109,
   "id": "2d33554f-7776-4253-ab83-b328c2757ef9",
   "metadata": {},
   "outputs": [
    {
     "data": {
      "text/plain": [
       "<AxesSubplot: >"
      ]
     },
     "execution_count": 109,
     "metadata": {},
     "output_type": "execute_result"
    },
    {
     "data": {
      "image/png": "[encoded data removed]",
      "text/plain": [
       "<Figure size 800x800 with 1 Axes>"
      ]
     },
     "metadata": {},
     "output_type": "display_data"
    }
   ],
   "source": [
    "plot_2dsim(embedding.detach().numpy(), y.view(-1).numpy().astype('int'))\n",
    "#plot_2dsim(embedding.detach().numpy(), y[:,0].view(-1).numpy().astype('int'))"
   ]
  },
  {
   "cell_type": "code",
   "execution_count": 120,
   "id": "e0f2e130-9d02-4d5b-8097-e173c842fa2b",
   "metadata": {},
   "outputs": [
    {
     "data": {
      "text/plain": [
       "<AxesSubplot: >"
      ]
     },
     "execution_count": 120,
     "metadata": {},
     "output_type": "execute_result"
    },
    {
     "data": {
      "image/png": "[encoded data removed]",
      "text/plain": [
       "<Figure size 800x800 with 1 Axes>"
      ]
     },
     "metadata": {},
     "output_type": "display_data"
    }
   ],
   "source": [
    "plot_2dsim(X.detach().numpy()[:,:2], y.view(-1).numpy().astype('int'))"
   ]
  },
  {
   "cell_type": "code",
   "execution_count": 111,
   "id": "7b04b1b4-560a-4b42-9f3d-d28fa0d41aed",
   "metadata": {},
   "outputs": [
    {
     "data": {
      "text/plain": [
       "tensor(0.8790)"
      ]
     },
     "execution_count": 111,
     "metadata": {},
     "output_type": "execute_result"
    }
   ],
   "source": [
    "torch.sum(y.view(-1,1)==head_predicted_label)/1000"
   ]
  },
  {
   "cell_type": "code",
   "execution_count": 113,
   "id": "a45c8ad8-2405-4661-ba56-b98de5f64f0a",
   "metadata": {},
   "outputs": [
    {
     "data": {
      "text/plain": [
       "tensor([[ 0.0518,  0.0068,  0.0354,  ...,  0.0037,  0.0335,  0.0314],\n",
       "        [ 0.0518,  0.0068,  0.0354,  ...,  0.0037,  0.0335,  0.0314],\n",
       "        [ 0.0518,  0.0068,  0.0354,  ...,  0.0037,  0.0335,  0.0314],\n",
       "        ...,\n",
       "        [ 0.0518,  0.0068,  0.0354,  ...,  0.0037,  0.0335,  0.0314],\n",
       "        [ 0.0518,  0.0068,  0.0354,  ...,  0.0037,  0.0335,  0.0314],\n",
       "        [ 0.2018,  0.5970,  0.5047,  ...,  0.4048, -0.7941,  0.8786]])"
      ]
     },
     "execution_count": 113,
     "metadata": {},
     "output_type": "execute_result"
    }
   ],
   "source": [
    "X_"
   ]
  },
  {
   "cell_type": "code",
   "execution_count": 114,
   "id": "1bf52fe3-b74e-481e-b252-983fc7f1e0b9",
   "metadata": {},
   "outputs": [
    {
     "data": {
      "text/plain": [
       "tensor(0.0481, grad_fn=<MseLossBackward>)"
      ]
     },
     "execution_count": 114,
     "metadata": {},
     "output_type": "execute_result"
    }
   ],
   "source": [
    "criterion_decoder(X_recon, X_)"
   ]
  },
  {
   "cell_type": "code",
   "execution_count": 117,
   "id": "904c0124-ff5f-4739-b736-e21a4c16e4f7",
   "metadata": {},
   "outputs": [
    {
     "data": {
      "text/plain": [
       "tensor([[ 0.0706, -0.0882, -0.0068,  ..., -0.0764, -0.0525,  0.1825],\n",
       "        [ 0.0697, -0.0798, -0.0469,  ..., -0.0371, -0.1062,  0.2246],\n",
       "        [ 0.0697, -0.0798, -0.0469,  ..., -0.0371, -0.1062,  0.2246],\n",
       "        ...,\n",
       "        [ 0.0697, -0.0798, -0.0469,  ..., -0.0371, -0.1062,  0.2246],\n",
       "        [ 0.0697, -0.0798, -0.0469,  ..., -0.0371, -0.1062,  0.2246],\n",
       "        [ 0.0697, -0.0798, -0.0469,  ..., -0.0371, -0.1062,  0.2246]])"
      ]
     },
     "execution_count": 117,
     "metadata": {},
     "output_type": "execute_result"
    }
   ],
   "source": [
    "X_replay"
   ]
  },
  {
   "cell_type": "code",
   "execution_count": null,
   "id": "87c9cede-ff4a-49f9-a8bf-fb2170b0f22d",
   "metadata": {},
   "outputs": [],
   "source": []
  }
 ],
 "metadata": {
  "kernelspec": {
   "display_name": "Python 3 (ipykernel)",
   "language": "python",
   "name": "python3"
  },
  "language_info": {
   "codemirror_mode": {
    "name": "ipython",
    "version": 3
   },
   "file_extension": ".py",
   "mimetype": "text/x-python",
   "name": "python",
   "nbconvert_exporter": "python",
   "pygments_lexer": "ipython3",
   "version": "3.9.12"
  }
 },
 "nbformat": 4,
 "nbformat_minor": 5
}
